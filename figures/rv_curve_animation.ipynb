{
 "cells": [
  {
   "cell_type": "code",
   "execution_count": 1,
   "metadata": {},
   "outputs": [
    {
     "name": "stderr",
     "output_type": "stream",
     "text": [
      "\n",
      "Bad key \"xtick.labeltop\" on line 358 in\n",
      "/Users/ryancloutier/.matplotlib/matplotlibrc.\n",
      "You probably need to get an updated matplotlibrc file from\n",
      "http://github.com/matplotlib/matplotlib/blob/master/matplotlibrc.template\n",
      "or from the matplotlib source distribution\n"
     ]
    }
   ],
   "source": [
    "from imports import *\n",
    "from rvmodel import get_rv1\n",
    "%matplotlib inline"
   ]
  },
  {
   "cell_type": "code",
   "execution_count": 2,
   "metadata": {},
   "outputs": [],
   "source": [
    "def ew2hk(eccs, omegas):\n",
    "    assert len(eccs) == len(omegas)\n",
    "    hs, ks = np.zeros(len(eccs)), np.zeros(len(eccs))\n",
    "    for i in range(len(eccs)):\n",
    "        hs[i] = np.sqrt(eccs[i])*np.cos(omegas[i])\n",
    "        ks[i] = np.sqrt(eccs[i])*np.sin(omegas[i])\n",
    "    return hs, ks"
   ]
  },
  {
   "cell_type": "code",
   "execution_count": 3,
   "metadata": {},
   "outputs": [],
   "source": [
    "# setup planetary system\n",
    "P, T0, Ms, mp = 2., 0., .2, 5.\n",
    "K = rvs.RV_K(P, Ms, mp)\n",
    "sma = rvs.semimajoraxis(P, Ms, mp)\n",
    "eccs = np.array([0., .3])\n",
    "omegas = np.zeros(2)\n",
    "hs, ks = ew2hk(eccs, omegas)"
   ]
  },
  {
   "cell_type": "code",
   "execution_count": 8,
   "metadata": {},
   "outputs": [],
   "source": [
    "# setup rv curves and positions\n",
    "N = 50\n",
    "#tarr = np.arange(0, 1, 1./N)\n",
    "tarr = np.linspace(0, P, N)\n",
    "nu1,kep1 = get_rv1((P,T0,0,K,hs[0],ks[0]), tarr)\n",
    "nu2,kep2 = get_rv1((P,T0,0,K,hs[1],ks[1]), tarr)\n",
    "r1 = sma * (1.-eccs[0]**2) / (1.+eccs[0]*np.cos(nu1))\n",
    "r2 = sma * (1.-eccs[1]**2) / (1.+eccs[1]*np.cos(nu2))\n",
    "x1, y1 = r1*np.cos(nu1+np.pi), r1*np.sin(nu1+np.pi)\n",
    "x2, y2 = r2*np.cos(nu2+np.pi), r2*np.sin(nu2+np.pi)"
   ]
  },
  {
   "cell_type": "code",
   "execution_count": 30,
   "metadata": {},
   "outputs": [
    {
     "name": "stdout",
     "output_type": "stream",
     "text": [
      "0.0\n",
      "0.02\n",
      "0.04\n",
      "0.06\n",
      "0.08\n",
      "0.1\n",
      "0.12\n",
      "0.14\n",
      "0.16\n",
      "0.18\n",
      "0.2\n",
      "0.22\n",
      "0.24\n",
      "0.26\n",
      "0.28\n",
      "0.3\n",
      "0.32\n",
      "0.34\n",
      "0.36\n",
      "0.38\n",
      "0.4\n",
      "0.42\n",
      "0.44\n",
      "0.46\n",
      "0.48\n",
      "0.5\n",
      "0.52\n",
      "0.54\n",
      "0.56\n",
      "0.58\n",
      "0.6\n",
      "0.62\n",
      "0.64\n",
      "0.66\n",
      "0.68\n",
      "0.7\n",
      "0.72\n",
      "0.74\n",
      "0.76\n",
      "0.78\n",
      "0.8\n",
      "0.82\n",
      "0.84\n",
      "0.86\n",
      "0.88\n",
      "0.9\n",
      "0.92\n",
      "0.94\n",
      "0.96\n",
      "0.98\n"
     ]
    }
   ],
   "source": [
    "# run animation\n",
    "for i in range(N):\n",
    "    \n",
    "    print i/float(N)\n",
    "    \n",
    "    # plot base\n",
    "    fig = plt.figure(figsize=(8,7))\n",
    "    ax1 = fig.add_axes([.5,.56,.4,.43])\n",
    "    ax2 = fig.add_axes([.1,.08,.86,.4])\n",
    "\n",
    "    # plot info\n",
    "    x, y, dy = -.9, .72, .12\n",
    "    ax1.text(x, y, 'P = %i days'%P, fontsize=16, transform=ax1.transAxes)\n",
    "    ax1.text(x, y-dy, 'M$_s$ = %.1f M$_{\\odot}$'%Ms, fontsize=16, transform=ax1.transAxes)\n",
    "    ax1.text(x, y-dy*2, 'm$_p$ = %i M$_{\\oplus}$'%mp, fontsize=16, transform=ax1.transAxes)\n",
    "    cols = ['#B4550D','#DF9213']\n",
    "    ax1.text(x, y-dy*3, 'e$_b$ = %.1f'%eccs[0], fontsize=16, transform=ax1.transAxes, color=cols[0])\n",
    "    ax1.text(x, y-dy*4, 'e$_c$ = %.1f'%eccs[1], fontsize=16, transform=ax1.transAxes, color=cols[1])\n",
    "\n",
    "    # plot configuration\n",
    "    ax1.scatter([0], [0], marker='*', s=800, facecolor='#D50002', edgecolor='k')\n",
    "    ax1.plot(x1, y1, '-', c=cols[0])\n",
    "    ax1.plot(x2, y2, '--', c=cols[1])\n",
    "    ax1.set_xlim((-1.5*sma, 1.5*sma))\n",
    "    ax1.set_ylim((-1.5*sma, 1.5*sma))\n",
    "    ax1.set_xlabel('X [AU]', fontsize=14), ax1.set_ylabel('Y [AU]', fontsize=14)\n",
    "\n",
    "    # plot keplerian models\n",
    "    ax2.plot(tarr, kep1, '-', c=cols[0])\n",
    "    ax2.plot(tarr, kep2, '--', c=cols[1])\n",
    "    ax2.set_xlim((0,P)), ax2.set_ylim((-10,11))\n",
    "    ax2.set_xlabel('Time [days]', fontsize=14), ax2.set_ylabel('RV [m/s]', fontsize=14)\n",
    "\n",
    "    # plot positions\n",
    "    #i += 1\n",
    "    ax1.plot(x1[i], y1[i], 'o', c=cols[0], ms=10)\n",
    "    ax1.plot(x2[i], y2[i], 'o', c=cols[1], ms=10)\n",
    "    ax1.plot(x1[:i+1], y1[:i+1], '-', c=cols[0], lw=5)\n",
    "    ax1.plot(x2[:i+1], y2[:i+1], '-', c=cols[1], lw=5)\n",
    "    \n",
    "    # plot RV curve\n",
    "    ax2.plot(tarr[i], kep1[i], 'o', c=cols[0], ms=10)\n",
    "    ax2.plot(tarr[i], kep2[i], 'o', c=cols[1], ms=10)\n",
    "    ax2.plot(tarr[:i+1], kep1[:i+1], '-', c=cols[0], lw=5)\n",
    "    ax2.plot(tarr[:i+1], kep2[:i+1], '-', c=cols[1], lw=5)\n",
    "    \n",
    "    plt.savefig('RVcurve_%i.png'%i)\n",
    "    plt.close('all')"
   ]
  },
  {
   "cell_type": "code",
   "execution_count": null,
   "metadata": {},
   "outputs": [],
   "source": []
  }
 ],
 "metadata": {
  "kernelspec": {
   "display_name": "Python [default]",
   "language": "python",
   "name": "python2"
  },
  "language_info": {
   "codemirror_mode": {
    "name": "ipython",
    "version": 2
   },
   "file_extension": ".py",
   "mimetype": "text/x-python",
   "name": "python",
   "nbconvert_exporter": "python",
   "pygments_lexer": "ipython2",
   "version": "2.7.13"
  }
 },
 "nbformat": 4,
 "nbformat_minor": 2
}
